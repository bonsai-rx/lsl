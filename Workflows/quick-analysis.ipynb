{
 "cells": [
  {
   "cell_type": "code",
   "execution_count": 35,
   "id": "0f58b293",
   "metadata": {},
   "outputs": [],
   "source": [
    "import pandas as pd\n",
    "import numpy as np\n",
    "import matplotlib.pyplot as plt\n",
    "import ipywidgets as widgets"
   ]
  },
  {
   "cell_type": "code",
   "execution_count": 83,
   "id": "44e350b8",
   "metadata": {},
   "outputs": [
    {
     "name": "stdout",
     "output_type": "stream",
     "text": [
      "         harp-ts           bonsai-ts\n",
      "0      80.383360  637933880394079744\n",
      "1      80.476704  637933880395019264\n",
      "2      80.968768  637933880399940352\n",
      "3      81.124928  637933880401499776\n",
      "4      81.529600  637933880405557888\n",
      "...          ...                 ...\n",
      "2947  698.428864  637933886575153408\n",
      "2948  699.232160  637933886583184384\n",
      "2949  699.355072  637933886584414976\n",
      "2950  700.167200  637933886592534912\n",
      "2951  700.265344  637933886593515008\n",
      "\n",
      "[2952 rows x 2 columns]\n",
      "            lsl-ts       lsl-bonsai-ts    harp-lsl\n",
      "0     1.117234e+06  637933880400498432   80.383360\n",
      "1     1.117234e+06  637933880400498688   80.476704\n",
      "2     1.117235e+06  637933880400498688   80.968768\n",
      "3     1.117235e+06  637933880401500416   81.124928\n",
      "4     1.117235e+06  637933880405556352   81.529600\n",
      "...            ...                 ...         ...\n",
      "2947  1.117852e+06  637933886575154432  698.428864\n",
      "2948  1.117853e+06  637933886583185024  699.232160\n",
      "2949  1.117853e+06  637933886584416000  699.355072\n",
      "2950  1.117854e+06  637933886592535936  700.167200\n",
      "2951  1.117854e+06  637933886593516160  700.265344\n",
      "\n",
      "[2952 rows x 3 columns]\n"
     ]
    }
   ],
   "source": [
    "# df_transmitter = pd.read_csv('C:/Users/neurogears/source/repos/lsl/Workflows/transmitted.csv', names=['harp-ts', 'bonsai-ts'], header=0)\n",
    "# df_receiver = pd.read_csv('C:/Users/neurogears/source/repos/lsl/Workflows/received.csv', names=['lsl-ts', 'lsl-bonsai-ts', 'harp-lsl'])\n",
    "\n",
    "# df_transmitter = pd.read_csv('C:/Users/neurogears/NeuroGEARS Ltd/Emotional Cities - Documents/Experiment Control and Acquisition/Benchmarks/LabStreamingLayer/lsl-latency-test-140722/transmitted.csv', names=['harp-ts', 'bonsai-ts'], header=0)\n",
    "# df_receiver = pd.read_csv('C:/Users/neurogears/NeuroGEARS Ltd/Emotional Cities - Documents/Experiment Control and Acquisition/Benchmarks/LabStreamingLayer/lsl-latency-test-140722/received.csv', names=['lsl-ts', 'lsl-bonsai-ts', 'harp-lsl'], header=0)\n",
    "\n",
    "df_transmitter = pd.read_csv('C:/Users/neurogears/NeuroGEARS Ltd/Emotional Cities - Documents/Experiment Control and Acquisition/Benchmarks/LabStreamingLayer/lsl-latency-test-140722/transmitted-samemachine.csv', names=['harp-ts', 'bonsai-ts'], header=0)\n",
    "df_receiver = pd.read_csv('C:/Users/neurogears/NeuroGEARS Ltd/Emotional Cities - Documents/Experiment Control and Acquisition/Benchmarks/LabStreamingLayer/lsl-latency-test-140722/received-samemachine.csv', names=['lsl-ts', 'lsl-bonsai-ts', 'harp-lsl'])\n",
    "\n",
    "print(df_transmitter)\n",
    "print(df_receiver)"
   ]
  },
  {
   "cell_type": "code",
   "execution_count": 84,
   "id": "8166ad74",
   "metadata": {},
   "outputs": [],
   "source": [
    "df_receiver['diff'] = (df_receiver['lsl-ts'] - df_receiver['lsl-ts'][0]) - (df_transmitter['harp-ts'] - df_transmitter['harp-ts'][0])"
   ]
  },
  {
   "cell_type": "code",
   "execution_count": 85,
   "id": "a5754b0a",
   "metadata": {},
   "outputs": [
    {
     "data": {
      "text/plain": [
       "[<matplotlib.lines.Line2D at 0x1ad7497cc40>]"
      ]
     },
     "execution_count": 85,
     "metadata": {},
     "output_type": "execute_result"
    },
    {
     "data": {
      "image/png": "[encoded data removed]",
      "text/plain": [
       "<Figure size 432x288 with 1 Axes>"
      ]
     },
     "metadata": {
      "needs_background": "light"
     },
     "output_type": "display_data"
    }
   ],
   "source": [
    "plt.plot(df_receiver['diff'])"
   ]
  },
  {
   "cell_type": "code",
   "execution_count": null,
   "id": "7e829897",
   "metadata": {},
   "outputs": [],
   "source": []
  }
 ],
 "metadata": {
  "kernelspec": {
   "display_name": "Python 3 (ipykernel)",
   "language": "python",
   "name": "python3"
  },
  "language_info": {
   "codemirror_mode": {
    "name": "ipython",
    "version": 3
   },
   "file_extension": ".py",
   "mimetype": "text/x-python",
   "name": "python",
   "nbconvert_exporter": "python",
   "pygments_lexer": "ipython3",
   "version": "3.9.7"
  }
 },
 "nbformat": 4,
 "nbformat_minor": 5
}
