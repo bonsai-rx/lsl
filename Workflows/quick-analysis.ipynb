{
 "cells": [
  {
   "cell_type": "code",
   "execution_count": 1,
   "id": "0f58b293",
   "metadata": {},
   "outputs": [],
   "source": [
    "import pandas as pd\n",
    "import numpy as np\n",
    "import matplotlib.pyplot as plt\n",
    "import ipywidgets as widgets"
   ]
  },
  {
   "cell_type": "code",
   "execution_count": 32,
   "id": "44e350b8",
   "metadata": {},
   "outputs": [
    {
     "name": "stdout",
     "output_type": "stream",
     "text": [
      "         harp-ts           bonsai-ts\n",
      "0      61.465088  637933853892133376\n",
      "1      61.560256  637933853893081600\n",
      "2      61.949504  637933853896982912\n",
      "3      62.069632  637933853898183296\n",
      "4      62.600064  637933853903484032\n",
      "...          ...                 ...\n",
      "2175  846.363232  637933861741893248\n",
      "2176  846.633920  637933861744603136\n",
      "2177  846.725248  637933861745512576\n",
      "2178  847.019680  637933861748463872\n",
      "2179  847.111904  637933861749383168\n",
      "\n",
      "[2180 rows x 2 columns]\n",
      "             lsl-ts       lsl-bonsai-ts    harp-lsl\n",
      "0     165655.107420  637933853902859520   61.465088\n",
      "1     165655.202249  637933853902908032   61.560256\n",
      "2     165655.592331  637933853902908928   61.949504\n",
      "3     165655.712346  637933853902909056   62.069632\n",
      "4     165656.242356  637933853907757056   62.600064\n",
      "...             ...                 ...         ...\n",
      "2175  166439.987225  637933861746181376  846.363232\n",
      "2176  166440.258177  637933861748894336  846.633920\n",
      "2177  166440.349100  637933861749803136  846.725248\n",
      "2178  166440.644190  637933861752753536  847.019680\n",
      "2179  166440.736110  637933861753672448  847.111904\n",
      "\n",
      "[2180 rows x 3 columns]\n"
     ]
    }
   ],
   "source": [
    "# df_transmitter = pd.read_csv('C:/Users/neurogears/source/repos/lsl/Workflows/transmitted.csv', names=['harp-ts', 'bonsai-ts'], header=0)\n",
    "# df_receiver = pd.read_csv('C:/Users/neurogears/source/repos/lsl/Workflows/received.csv', names=['lsl-ts', 'lsl-bonsai-ts', 'harp-lsl'])\n",
    "\n",
    "df_transmitter = pd.read_csv('C:/Users/neurogears/NeuroGEARS Ltd/Emotional Cities - Documents/Experiment Control and Acquisition/Benchmarks/LabStreamingLayer/lsl-latency-test-140722/transmitted.csv', names=['harp-ts', 'bonsai-ts'], header=0)\n",
    "df_receiver = pd.read_csv('C:/Users/neurogears/NeuroGEARS Ltd/Emotional Cities - Documents/Experiment Control and Acquisition/Benchmarks/LabStreamingLayer/lsl-latency-test-140722/received.csv', names=['lsl-ts', 'lsl-bonsai-ts', 'harp-lsl'], header=0)\n",
    "\n",
    "# df_transmitter = pd.read_csv('C:/Users/neurogears/NeuroGEARS Ltd/Emotional Cities - Documents/Experiment Control and Acquisition/Benchmarks/LabStreamingLayer/lsl-latency-test-140722/transmitted-samemachine.csv', names=['harp-ts', 'bonsai-ts'], header=0)\n",
    "# df_receiver = pd.read_csv('C:/Users/neurogears/NeuroGEARS Ltd/Emotional Cities - Documents/Experiment Control and Acquisition/Benchmarks/LabStreamingLayer/lsl-latency-test-140722/received-samemachine.csv', names=['lsl-ts', 'lsl-bonsai-ts', 'harp-lsl'])\n",
    "\n",
    "print(df_transmitter)\n",
    "print(df_receiver)"
   ]
  },
  {
   "cell_type": "code",
   "execution_count": 33,
   "id": "8166ad74",
   "metadata": {},
   "outputs": [],
   "source": [
    "# df_receiver['diff'] = (df_receiver['lsl-ts'] - df_receiver['lsl-ts'][0]) - (df_transmitter['harp-ts'] - df_transmitter['harp-ts'][0])\n",
    "\n",
    "df_receiver['diff'] = ((df_receiver['lsl-bonsai-ts'][100:]) - (df_transmitter['bonsai-ts'][100:])) / 10000000"
   ]
  },
  {
   "cell_type": "code",
   "execution_count": 34,
   "id": "a5754b0a",
   "metadata": {},
   "outputs": [
    {
     "data": {
      "text/plain": [
       "[<matplotlib.lines.Line2D at 0x22f5350b730>]"
      ]
     },
     "execution_count": 34,
     "metadata": {},
     "output_type": "execute_result"
    },
    {
     "data": {
      "image/png": "[encoded data removed]",
      "text/plain": [
       "<Figure size 432x288 with 1 Axes>"
      ]
     },
     "metadata": {
      "needs_background": "light"
     },
     "output_type": "display_data"
    }
   ],
   "source": [
    "plt.plot(df_receiver['diff'])"
   ]
  },
  {
   "cell_type": "code",
   "execution_count": null,
   "id": "7e829897",
   "metadata": {},
   "outputs": [],
   "source": []
  },
  {
   "cell_type": "code",
   "execution_count": null,
   "id": "fc3e5b18",
   "metadata": {},
   "outputs": [],
   "source": []
  }
 ],
 "metadata": {
  "kernelspec": {
   "display_name": "Python 3 (ipykernel)",
   "language": "python",
   "name": "python3"
  },
  "language_info": {
   "codemirror_mode": {
    "name": "ipython",
    "version": 3
   },
   "file_extension": ".py",
   "mimetype": "text/x-python",
   "name": "python",
   "nbconvert_exporter": "python",
   "pygments_lexer": "ipython3",
   "version": "3.9.7"
  }
 },
 "nbformat": 4,
 "nbformat_minor": 5
}
